{
 "cells": [
  {
   "cell_type": "markdown",
   "source": [
    "# Challenge 1: Prepare Textual Data for Analysis\n",
    "\n",
    "In this challenge, we will walk you through how to prepare raw text data for NLP analysis. Due to time limitation, we will cover **text cleaning, tokenization, stemming, lemmatization, and stop words removal** but skip POS tags, named entity recognition, and trunking. The latter 3 steps are more advanced and not required for our next challenge on sentiment analysis. \n",
    "\n",
    "## Objectives\n",
    "\n",
    "* Learn how to prepare text data for NLP analysis in Python\n",
    "* Write the functions you will use in Challenge 3 for cleaning, tokenizing, stemming, and lemmatizing data."
   ],
   "metadata": {}
  },
  {
   "cell_type": "markdown",
   "source": [
    "## Text Cleaning\r\n",
    "\r\n",
    "Text cleaning is also called text cleansing. The goal is to clean up the messy real-world textual data in order to improve the text analysis accuracy at later steps. For generic textual data sources, we usually need to fix the following problems:\r\n",
    "\r\n",
    "* Missing values\r\n",
    "* Special characters\r\n",
    "* Numbers\r\n",
    "\r\n",
    "For web data, we need to additinally fix:\r\n",
    "\r\n",
    "* HTML tags\r\n",
    "* JavaScripts\r\n",
    "* CSS\r\n",
    "* URLs\r\n",
    "\r\n",
    "Case by case, there may also be special problems we need to fix for certain types of data. For instance, for Twitter tweets data we need to fix hashtags and the Twitter handler including a *@* sign and Twitter usernames.\r\n",
    "\r\n",
    "In addition, we also need to convert the texts to lower cases so that when we anaylize the words later, NLTK will not think *Ironhack* and *ironhack* mean different things.\r\n",
    "\r\n",
    "Note that the above are the general steps to clean up data for NLP analysis. In specific cases, not all those steps apply. For example, if you are analyzing textual data on history, you probably don't want to remove numbers because numbers (such as years and dates) are important in history. Besides, if you are doing something like network analysis on web data, you may want to retain hyperlinks so that you will be able to extract the outbounding links in the next steps. Sometimes you may also need to do some cleaning first, then extract some features, then do more cleaning, then extract more features. You'll have to make these judgments by yourself case by case. \r\n",
    "\r\n",
    "In this challenge we are keeping things relatively simple so **you only need to clean up special characters, numbers, and URLs**. Let's say you have the following messy string to clean up:\r\n",
    "\r\n",
    "```\r\n",
    "@Ironhack's-#Q website 776-is http://ironhack.com [(2018)]\")\r\n",
    "```\r\n",
    "\r\n",
    "You will write a function, which will be part of you NLP analysis pipeline in the next challenge, to clean up strings like above and output:\r\n",
    "\r\n",
    "```\r\n",
    "ironhack s  q website  is\r\n",
    "```\r\n",
    "\r\n",
    "**In the cell below, write a function called `clean_up`**. Test your function with the above string and make sure you receive the expected output.\r\n",
    "\r\n",
    "*Notes:*\r\n",
    "\r\n",
    "* Use regular expressions to identify URL patterns and remove URLs.\r\n",
    "\r\n",
    "* You don't want to replace special characters/numbers with an empty string. Because that will join words that shouldn't be joined. For instance, if you replace the `'` in `you're`, you will get `youre` which is undesirable. So instead, replace special characters and numbers with a whitespace.\r\n",
    "\r\n",
    "* The order matters in terms of what to clean before others. For example, if you clean special characters before URLs, it will be difficult to identify the URLs patterns.\r\n",
    "\r\n",
    "* Don't worry about single letters and multiple whitespaces in your returned string. In our next steps those issues will be fixed."
   ],
   "metadata": {}
  },
  {
   "cell_type": "markdown",
   "source": [
    "## IMPORTING THE REQUIRED LIBRARIES"
   ],
   "metadata": {}
  },
  {
   "cell_type": "code",
   "execution_count": 1,
   "source": [
    "import re\r\n",
    "import nltk\r\n",
    "\r\n",
    "from nltk.tokenize import word_tokenize\r\n",
    "from nltk.stem import PorterStemmer\r\n",
    "from nltk.stem import WordNetLemmatizer \r\n",
    "from nltk.corpus import stopwords"
   ],
   "outputs": [],
   "metadata": {}
  },
  {
   "cell_type": "markdown",
   "source": [
    "## DOWNLOADING THE PUNKT FUNCTIONALITY FROM NLTK"
   ],
   "metadata": {}
  },
  {
   "cell_type": "markdown",
   "source": [
    "try:\r\n",
    "    _create_unverified_https_context = ssl._create_unverified_context\r\n",
    "\r\n",
    "except AttributeError:\r\n",
    "    pass\r\n",
    "\r\n",
    "else:\r\n",
    "    ssl._create_default_https_context = _create_unverified_https_context\r\n",
    "\r\n",
    "nltk.download('punkt')"
   ],
   "metadata": {}
  },
  {
   "cell_type": "markdown",
   "source": [
    "## CLEANING"
   ],
   "metadata": {}
  },
  {
   "cell_type": "code",
   "execution_count": 3,
   "source": [
    "random_text = \"@Ironhack's-#Q website 776-is http://ironhack.com [(2018)]')\"\r\n",
    "\r\n",
    "def clean_up(text: str) -> str:\r\n",
    "    clean_text = str()\r\n",
    "    url = re.search(\"(?P<url>https?://[^\\s]+)\", text)\r\n",
    "    if url != None:\r\n",
    "        url = url.group(\"url\")\r\n",
    "        text = text.replace(url, '')\r\n",
    "    for character in text:\r\n",
    "        if not character.isalpha():\r\n",
    "            clean_text += ' '\r\n",
    "        else:\r\n",
    "            clean_text += character\r\n",
    "    return clean_text.lower()\r\n",
    "\r\n",
    "random_text_clean = clean_up(random_text)"
   ],
   "outputs": [
    {
     "output_type": "execute_result",
     "data": {
      "text/plain": [
       "' ironhack s  q website     is  http   zara com           '"
      ]
     },
     "metadata": {},
     "execution_count": 3
    }
   ],
   "metadata": {}
  },
  {
   "cell_type": "markdown",
   "source": [
    "## Tokenization\n",
    "\n",
    "We have actually discussed the concept of tokenization in the Bag of Words lab before. In that lab, we did both tokenization and calculated the [matrix of document-term frequency](https://en.wikipedia.org/wiki/Document-term_matrix). In this lab, we only need tokenization.\n",
    "\n",
    "In the cell below, write a function called **`tokenize`** to convert a string to a list of words. We'll use the string we received in the previous step *`ironhack s  q website  is`* to test your function. Your function shoud return:\n",
    "\n",
    "```python\n",
    "['ironhack', 's', 'q', 'website', 'is']\n",
    "```\n",
    "\n",
    "*Hint: use the `word_tokenize` function in NLTK.*"
   ],
   "metadata": {}
  },
  {
   "cell_type": "markdown",
   "source": [
    "## TOKENIZING"
   ],
   "metadata": {}
  },
  {
   "cell_type": "code",
   "execution_count": 3,
   "source": [
    "def tokenize(text: str) -> list:\r\n",
    "    return word_tokenize(text)\r\n",
    "\r\n",
    "random_text_tokenize = tokenize(random_text_clean)"
   ],
   "outputs": [],
   "metadata": {}
  },
  {
   "cell_type": "markdown",
   "source": [
    "## Stemming and Lemmatization\n",
    "\n",
    "We will do stemming and lemmatization in the same step because otherwise we'll have to loop each token lists twice. You have learned in the previous challenge that stemming and lemmatization are similar but have different purposes for text normalization:\n",
    "\n",
    "**Stemming reduces words to their root forms (stems) even if the stem itself is not a valid word**. For instance, *token*, *tokenize*, and *tokenization* will be reduced to the same stem - *token*. And *change*, *changed*, *changing* will be reduced to *chang*.\n",
    "\n",
    "In NLTK, there are three stemming libraries: [*Porter*](https://www.nltk.org/_modules/nltk/stem/porter.html), [*Snowball*](https://www.nltk.org/_modules/nltk/stem/snowball.html), and [*Lancaster*](https://www.nltk.org/_modules/nltk/stem/lancaster.html). The difference among the three is the agressiveness with which they perform stemming. Porter is the most gentle stemmer that preserves the word's original form if it has doubts. In contrast, Lancaster is the most aggressive one that sometimes produces wrong outputs. And Snowball is in between. **In most cases you will use either Porter or Snowball**.\n",
    "\n",
    "**Lemmatization differs from stemming in that lemmatization cares about whether the reduced form belongs to the target language and it often requires the context (i.e. POS or parts-of-speech) in order to perform the correct transformation**. For example, the [*Word Net lemmatizer* in NLTK](https://www.nltk.org/_modules/nltk/stem/wordnet.html) yields different results with and without being told that *was* is a verb:\n",
    "\n",
    "```python\n",
    ">>> from nltk.stem import WordNetLemmatizer\n",
    ">>> lemmatizer = WordNetLemmatizer()\n",
    ">>> lemmatizer.lemmatize('was')\n",
    "'wa'\n",
    ">>> lemmatizer.lemmatize('runs', pos='v')\n",
    "'be'\n",
    "```\n",
    "\n",
    "In the cell below, import the necessary libraries and define a function called `stem_and_lemmatize` that performs both stemming and lemmatization on a list of words. Don't worry about the POS part of lemmatization for now."
   ],
   "metadata": {}
  },
  {
   "cell_type": "markdown",
   "source": [
    "nltk.download('wordnet')"
   ],
   "metadata": {}
  },
  {
   "cell_type": "markdown",
   "source": [
    "## STEMMING AND LEMMING"
   ],
   "metadata": {}
  },
  {
   "cell_type": "code",
   "execution_count": 7,
   "source": [
    "def stem(words: list) -> list:\r\n",
    "    transformer = PorterStemmer()\r\n",
    "    return [transformer.stem(word) for word in words]\r\n",
    "\r\n",
    "def lem(words: list) -> list:\r\n",
    "    transformer = WordNetLemmatizer()\r\n",
    "    return [transformer.lemmatize(word) for word in words]\r\n",
    "\r\n",
    "random_text_stemmed = stem(random_text_tokenize)\r\n",
    "random_text_lemmed = lem(random_text_tokenize)"
   ],
   "outputs": [],
   "metadata": {}
  },
  {
   "cell_type": "markdown",
   "source": [
    "## Stop Words Removal\n",
    "\n",
    "Stop Words are the most commonly used words in a language that don't contribute to the main meaning of the texts. Examples of English stop words are `i`, `me`, `is`, `and`, `the`, `but`, and `here`. We want to remove stop words from analysis because otherwise stop words will take the overwhelming portion in our tokenized word list and the NLP algorithms will have problems in identifying the truely important words.\n",
    "\n",
    "NLTK has a `stopwords` package that allows us to import the most common stop words in over a dozen langauges including English, Spanish, French, German, Dutch, Portuguese, Italian, etc. These are the bare minimum stop words (100-150 words in each language) that can get beginners started. Some other NLP packages such as [*stop-words*](https://pypi.org/project/stop-words/) and [*wordcloud*](https://amueller.github.io/word_cloud/generated/wordcloud.WordCloud.html) provide bigger lists of stop words.\n",
    "\n",
    "Now in the cell below, create a function called `remove_stopwords` that loop through a list of words that have been stemmed and lemmatized to check and remove stop words. Return a new list where stop words have been removed."
   ],
   "metadata": {}
  },
  {
   "cell_type": "markdown",
   "source": [
    "nltk.download('stopwords')"
   ],
   "metadata": {}
  },
  {
   "cell_type": "markdown",
   "source": [
    "## REMOVING STOPWORDS"
   ],
   "metadata": {}
  },
  {
   "cell_type": "code",
   "execution_count": 5,
   "source": [
    "def remove_stopwords(words: list) -> list:\r\n",
    "    return [word for word in words if not word in stopwords.words()]\r\n",
    "\r\n",
    "random_text_not_stopwords = remove_stopwords(random_text_lemmed)"
   ],
   "outputs": [],
   "metadata": {}
  },
  {
   "cell_type": "markdown",
   "source": [
    "## Summary\n",
    "\n",
    "In this challenge you have learned several text preparation techniques in more depths including text cleaning, tokenization, stemming, lemmatization, and stopwords removal. You have also written the functions you will be using in the next challenge to prepare texts for NLP analysis. Now we are ready to move on to the next challenge - Sentiment Analysis."
   ],
   "metadata": {}
  }
 ],
 "metadata": {
  "kernelspec": {
   "name": "python3",
   "display_name": "Python 3.9.7 64-bit ('nlp_env': venv)"
  },
  "language_info": {
   "codemirror_mode": {
    "name": "ipython",
    "version": 3
   },
   "file_extension": ".py",
   "mimetype": "text/x-python",
   "name": "python",
   "nbconvert_exporter": "python",
   "pygments_lexer": "ipython3",
   "version": "3.9.7"
  },
  "interpreter": {
   "hash": "f1789deed04f08bf895524f13ca4d2cc39b3704106e8c8385a0dd77c19e95dcb"
  }
 },
 "nbformat": 4,
 "nbformat_minor": 2
}